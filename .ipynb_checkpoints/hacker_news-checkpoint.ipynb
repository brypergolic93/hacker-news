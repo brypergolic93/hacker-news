{
 "cells": [
  {
   "cell_type": "markdown",
   "metadata": {},
   "source": [
    "# Hacker News\n",
    "\n",
    "We will be using a dataset[dataset](https://www.kaggle.com/hacker-news/hacker-news-posts) from Y-Combinator regarding posted articles. The columns of the dataset are:\n",
    "\n",
    "```id```: Identifier defined by HN  \n",
    "`title`: Article title  \n",
    "`url`: Where the article may be found  \n",
    "`num_points`: Points defined by upvotes subtract downvotes  \n",
    "`num_comments`: Number comments on the post  \n",
    "`created at`: Data and time at which the post was created\n"
   ]
  },
  {
   "cell_type": "code",
   "execution_count": 3,
   "metadata": {},
   "outputs": [
    {
     "name": "stdout",
     "output_type": "stream",
     "text": [
      "['id', 'title', 'url', 'num_points', 'num_comments', 'author', 'created_at']\n",
      "The number of entries is  293119\n"
     ]
    }
   ],
   "source": [
    "from csv import reader\n",
    "\n",
    "opened_file = open(\"HN_posts_year_to_Sep_26_2016.csv\", encoding = \"UTF-8\")\n",
    "read_file = reader(opened_file)\n",
    "HN_list = list(read_file)\n",
    "headers = HN_list[0]\n",
    "hn = HN_list[1:]\n",
    "\n",
    "print(headers)\n",
    "\n",
    "print('The number of entries is', len(hn))"
   ]
  },
  {
   "cell_type": "markdown",
   "metadata": {},
   "source": [
    "---\n",
    "Separate the different types of Hacker New posts"
   ]
  },
  {
   "cell_type": "code",
   "execution_count": 12,
   "metadata": {},
   "outputs": [
    {
     "name": "stdout",
     "output_type": "stream",
     "text": [
      "The number of Ask HN posts is 9139\n",
      "The number of Show HN posts is 10158\n",
      "The number of other posts is 273822\n",
      "\n",
      "The post types have been tabulated correctly\n",
      "['12578335', 'Show HN: Finding puns computationally', 'http://puns.samueltaylor.org/', '2', '0', 'saamm', '9/26/2016 0:36']\n"
     ]
    }
   ],
   "source": [
    "ask_posts = []\n",
    "show_posts = []\n",
    "other_posts = []\n",
    "\n",
    "for row in hn:\n",
    "    title = row[1]\n",
    "    lower_case_title = title.lower()\n",
    "    \n",
    "    if lower_case_title.startswith('ask hn'):\n",
    "        ask_posts.append(row)\n",
    "    elif lower_case_title.startswith('show hn'):\n",
    "        show_posts.append(row)\n",
    "    else:\n",
    "        other_posts.append(row)\n",
    "        \n",
    "print('The number of Ask HN posts is', len(ask_posts))\n",
    "print('The number of Show HN posts is', len(show_posts))\n",
    "print('The number of other posts is', len(other_posts))\n",
    "\n",
    "if (len(ask_posts) + len(show_posts) + len(other_posts)) == len(hn):\n",
    "    print('\\nThe post types have been tabulated correctly')\n",
    "else:\n",
    "    print('\\nThe posts types have not been tabulated correctly')\n"
   ]
  },
  {
   "cell_type": "markdown",
   "metadata": {},
   "source": [
    "---\n",
    "Determine the number of comments on ask posts"
   ]
  },
  {
   "cell_type": "code",
   "execution_count": 14,
   "metadata": {},
   "outputs": [
    {
     "name": "stdout",
     "output_type": "stream",
     "text": [
      "The total number of comments on Ask posts: 94986\n",
      "The average number of comments on Ask posts: 10.393478498741656\n",
      "The total number of comments on Show posts: 49633\n",
      "The average number of comments on Show posts: 4.886099625910612\n"
     ]
    }
   ],
   "source": [
    "total_ask_comments = 0\n",
    "total_show_comments = 0\n",
    "\n",
    "for row in ask_posts:\n",
    "    comment_number = int(row[4])\n",
    "    \n",
    "    total_ask_comments += comment_number\n",
    "    \n",
    "for row in show_posts:\n",
    "    comment_number = int(row[4])\n",
    "    \n",
    "    total_show_comments += comment_number\n",
    "    \n",
    "avg_ask_comments = total_ask_comments/len(ask_posts)\n",
    "avg_show_comments = total_show_comments/len(show_posts)\n",
    "\n",
    "print('The total number of comments on Ask posts:', total_ask_comments)\n",
    "print('The average number of comments on Ask posts:', avg_ask_comments)\n",
    "\n",
    "print('The total number of comments on Show posts:', total_show_comments)\n",
    "print('The average number of comments on Show posts:', avg_show_comments)\n",
    "\n",
    "    \n",
    "    \n",
    "    "
   ]
  },
  {
   "cell_type": "markdown",
   "metadata": {},
   "source": [
    "Ask Posts get more than twice the number of comments as Show Posts on average. It appears that when people ask a simple, straight-forward question, people leap to share their opinions. Conversely, with Show Posts, users must go to the Git repo and do \"actual work\" to see the project that might not even interest them.\n",
    "\n",
    "---\n",
    "Now, we will see if there is a correlation between the time a post is made and the attention it draws."
   ]
  },
  {
   "cell_type": "code",
   "execution_count": 15,
   "metadata": {},
   "outputs": [],
   "source": []
  },
  {
   "cell_type": "code",
   "execution_count": 66,
   "metadata": {},
   "outputs": [
    {
     "name": "stdout",
     "output_type": "stream",
     "text": [
      "Top 5 Hours for Ask Posts Comments:\n",
      "15:00: 28.68\n",
      "13:00: 16.32\n",
      "12:00: 12.38\n",
      "2:00: 11.14\n",
      "10:00: 10.68\n"
     ]
    }
   ],
   "source": [
    "import datetime as dt\n",
    "\n",
    "result_list = []\n",
    "\n",
    "for row in ask_posts:\n",
    "    created_time = row[6]\n",
    "    comment_number = int(row[4])\n",
    "    \n",
    "    new_row = [created_time, comment_number]\n",
    "    \n",
    "    result_list.append(new_row)\n",
    "    \n",
    "counts_by_hour = {}\n",
    "comments_by_hour = {}\n",
    "\n",
    "for row in result_list:\n",
    "    \n",
    "    date_time = row[0]\n",
    "    comment = row[1]\n",
    "    \n",
    "    date_time_dt = dt.datetime.strptime(date_time, \"%m/%d/%Y %H:%M\") \n",
    "    \n",
    "    time_hour = date_time_dt.hour\n",
    "    \n",
    "    if time_hour not in counts_by_hour:\n",
    "        counts_by_hour[time_hour] = 1\n",
    "        comments_by_hour[time_hour] = comment\n",
    "    else:\n",
    "        counts_by_hour[time_hour] += 1\n",
    "        comments_by_hour[time_hour] += comment\n",
    "        \n",
    "avg_by_hour = []\n",
    "\n",
    "for hours in counts_by_hour:\n",
    "    \n",
    "    avg_comment = comments_by_hour[hours] / counts_by_hour[hours]\n",
    "    \n",
    "    avg_hour = [hours, avg_comment]\n",
    "    \n",
    "    avg_by_hour.append(avg_hour)\n",
    "    \n",
    "avg_by_hour_swapped = []\n",
    "\n",
    "for row in avg_by_hour:\n",
    "    hour = row[0]\n",
    "    avg_comment = row[1]\n",
    "    \n",
    "    new_row = [avg_comment, hour]\n",
    "    \n",
    "    avg_by_hour_swapped.append(new_row)\n",
    "    \n",
    "sorted_avg = sorted(avg_by_hour_swapped, reverse=True)\n",
    "\n",
    "index = 0\n",
    "\n",
    "print('Top 5 Hours for Ask Posts Comments:')\n",
    "\n",
    "while index < 5:\n",
    "    \n",
    "    row = sorted_avg[index]\n",
    "    avg_comment = row[0]\n",
    "    hour = str(row[1])\n",
    "       \n",
    "    print(\"{}:00: {:,.2f}\".format(hour,avg_comment))\n",
    "    \n",
    "    index += 1"
   ]
  },
  {
   "cell_type": "markdown",
   "metadata": {},
   "source": [
    "The most comments around lunch in the Eastern time zone. This means for me, it would be best to post around 18:00 because I am in Vienna."
   ]
  },
  {
   "cell_type": "code",
   "execution_count": null,
   "metadata": {},
   "outputs": [],
   "source": []
  }
 ],
 "metadata": {
  "kernelspec": {
   "display_name": "Python 3",
   "language": "python",
   "name": "python3"
  },
  "language_info": {
   "codemirror_mode": {
    "name": "ipython",
    "version": 3
   },
   "file_extension": ".py",
   "mimetype": "text/x-python",
   "name": "python",
   "nbconvert_exporter": "python",
   "pygments_lexer": "ipython3",
   "version": "3.7.6"
  }
 },
 "nbformat": 4,
 "nbformat_minor": 4
}
